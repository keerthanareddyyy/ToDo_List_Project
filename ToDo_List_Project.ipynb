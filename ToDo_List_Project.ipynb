{
  "nbformat": 4,
  "nbformat_minor": 0,
  "metadata": {
    "colab": {
      "provenance": [],
      "authorship_tag": "ABX9TyPfbZ4Q42tKaJ0BkwpYsTZS",
      "include_colab_link": true
    },
    "kernelspec": {
      "name": "python3",
      "display_name": "Python 3"
    },
    "language_info": {
      "name": "python"
    }
  },
  "cells": [
    {
      "cell_type": "markdown",
      "metadata": {
        "id": "view-in-github",
        "colab_type": "text"
      },
      "source": [
        "<a href=\"https://colab.research.google.com/github/keerthanareddyyy/ToDo_List_Project/blob/main/ToDo_List_Project.ipynb\" target=\"_parent\"><img src=\"https://colab.research.google.com/assets/colab-badge.svg\" alt=\"Open In Colab\"/></a>"
      ]
    },
    {
      "cell_type": "code",
      "execution_count": 4,
      "metadata": {
        "colab": {
          "base_uri": "https://localhost:8080/"
        },
        "id": "72ZiP9iL_G1X",
        "outputId": "d929f22e-f6c1-40af-b150-0077c261e693"
      },
      "outputs": [
        {
          "output_type": "stream",
          "name": "stdout",
          "text": [
            "\n",
            "1. Show Tasks\n",
            "2. Add Task\n",
            "3. Delete Task\n",
            "4. Exit\n",
            "Choose: 1\n",
            "No tasks found.\n",
            "\n",
            "1. Show Tasks\n",
            "2. Add Task\n",
            "3. Delete Task\n",
            "4. Exit\n",
            "Choose: 2\n",
            "Enter a new task: submit project on monday\n",
            "Task added!\n",
            "\n",
            "1. Show Tasks\n",
            "2. Add Task\n",
            "3. Delete Task\n",
            "4. Exit\n",
            "Choose: 3\n",
            "Your To-Do List:\n",
            "1. submit project on monday\n",
            "Enter task number to delete: 1\n",
            "Deleted task: submit project on monday\n",
            "\n",
            "1. Show Tasks\n",
            "2. Add Task\n",
            "3. Delete Task\n",
            "4. Exit\n",
            "Choose: 4\n",
            "Goodbye!\n"
          ]
        }
      ],
      "source": [
        "FILENAME = \"tasks.txt\"\n",
        "def load_tasks():\n",
        "    try:\n",
        "        with open(FILENAME, \"r\") as f:\n",
        "            tasks = [line.strip() for line in f.readlines()]\n",
        "    except FileNotFoundError:\n",
        "        tasks = []\n",
        "    return tasks\n",
        "\n",
        "def save_tasks(tasks):\n",
        "    with open(FILENAME, \"w\") as f:\n",
        "        for task in tasks:\n",
        "            f.write(task + \"\\n\")\n",
        "def show_tasks(tasks):\n",
        "    if not tasks:\n",
        "        print(\"No tasks found.\")\n",
        "    else:\n",
        "        print(\"Your To-Do List:\")\n",
        "        for i, task in enumerate(tasks, 1):\n",
        "            print(f\"{i}. {task}\")\n",
        "\n",
        "def add_task(tasks):\n",
        "    task = input(\"Enter a new task: \")\n",
        "    tasks.append(task)\n",
        "    save_tasks(tasks)\n",
        "    print(\"Task added!\")\n",
        "\n",
        "def delete_task(tasks):\n",
        "    show_tasks(tasks)\n",
        "    try:\n",
        "        task_num = int(input(\"Enter task number to delete: \"))\n",
        "        if 1 <= task_num <= len(tasks):\n",
        "            removed = tasks.pop(task_num - 1)\n",
        "            save_tasks(tasks)\n",
        "            print(f\"Deleted task: {removed}\")\n",
        "        else:\n",
        "            print(\"Invalid number.\")\n",
        "    except ValueError:\n",
        "        print(\"Please enter a valid number.\")\n",
        "tasks = load_tasks()\n",
        "while True:\n",
        "    print(\"\\n1. Show Tasks\\n2. Add Task\\n3. Delete Task\\n4. Exit\")\n",
        "    choice = input(\"Choose: \")\n",
        "\n",
        "    if choice == \"1\":\n",
        "        show_tasks(tasks)\n",
        "    elif choice == \"2\":\n",
        "        add_task(tasks)\n",
        "    elif choice == \"3\":\n",
        "        delete_task(tasks)\n",
        "    elif choice == \"4\":\n",
        "        print(\"Goodbye!\")\n",
        "        break\n",
        "    else:\n",
        "        print(\"Invalid option.\")\n"
      ]
    }
  ]
}